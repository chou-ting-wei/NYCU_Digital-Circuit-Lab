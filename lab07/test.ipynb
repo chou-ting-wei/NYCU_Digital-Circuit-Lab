{
 "cells": [
  {
   "cell_type": "code",
   "execution_count": 7,
   "metadata": {},
   "outputs": [
    {
     "data": {
      "text/plain": [
       "'./random_hex_file.txt'"
      ]
     },
     "execution_count": 7,
     "metadata": {},
     "output_type": "execute_result"
    }
   ],
   "source": [
    "import random\n",
    "\n",
    "# Generate a list of all hex numbers from 00 to FF\n",
    "hex_values = [f\"{random.randint(0, 255):02x}\" for _ in range(98)]\n",
    "hex_values.append(\"00\")\n",
    "hex_values.append(\"00\")\n",
    "random_hex_data = \"\\n\".join(hex_values)\n",
    "\n",
    "file_path = \"./random_hex_file.txt\"\n",
    "with open(file_path, \"w\") as file:\n",
    "    file.write(random_hex_data)\n",
    "\n",
    "file_path"
   ]
  }
 ],
 "metadata": {
  "kernelspec": {
   "display_name": "base",
   "language": "python",
   "name": "python3"
  },
  "language_info": {
   "codemirror_mode": {
    "name": "ipython",
    "version": 3
   },
   "file_extension": ".py",
   "mimetype": "text/x-python",
   "name": "python",
   "nbconvert_exporter": "python",
   "pygments_lexer": "ipython3",
   "version": "3.10.9"
  }
 },
 "nbformat": 4,
 "nbformat_minor": 2
}
